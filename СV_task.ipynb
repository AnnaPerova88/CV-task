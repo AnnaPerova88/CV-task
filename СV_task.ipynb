{
  "nbformat": 4,
  "nbformat_minor": 0,
  "metadata": {
    "colab": {
      "private_outputs": true,
      "provenance": []
    },
    "kernelspec": {
      "name": "python3",
      "display_name": "Python 3"
    },
    "language_info": {
      "name": "python"
    }
  },
  "cells": [
    {
      "cell_type": "code",
      "source": [
        "import zipfile\n",
        "\n",
        "# Путь к файлу архива\n",
        "zip_file_path = '/mnt/data/sirius_data-6fb0f21e-6f0f-4d7d-9a83-dab650e7ea10.zip'\n",
        "extracted_folder = '/mnt/data/extracted_sirius_data'\n",
        "\n",
        "# Распаковка архива\n",
        "with zipfile.ZipFile(zip_file_path, 'r') as zip_ref:\n",
        "    zip_ref.extractall(extracted_folder)\n",
        "\n",
        "# Проверка содержимого папки\n",
        "extracted_files = os.listdir(extracted_folder)\n",
        "extracted_files"
      ],
      "metadata": {
        "id": "erI62eF3tGz3"
      },
      "execution_count": null,
      "outputs": []
    },
    {
      "cell_type": "code",
      "source": [
        "# Проверка содержимого папки 'sirius_data'\n",
        "sirius_data_folder = os.path.join(extracted_folder, 'sirius_data')\n",
        "sirius_data_files = os.listdir(sirius_data_folder)\n",
        "sirius_data_files"
      ],
      "metadata": {
        "id": "WNx_pipXtSAs"
      },
      "execution_count": null,
      "outputs": []
    },
    {
      "cell_type": "code",
      "source": [
        "import cv2\n",
        "import torch\n",
        "from torchvision import transforms\n",
        "from PIL import Image\n",
        "import numpy as np\n",
        "import os"
      ],
      "metadata": {
        "id": "3tGJT0CMtSOu"
      },
      "execution_count": null,
      "outputs": []
    },
    {
      "cell_type": "code",
      "source": [
        "# Загрузка предобученной модели U2-Net\n",
        "model = torch.hub.load('Nkap23/U-2-Net', 'u2net')"
      ],
      "metadata": {
        "id": "WWVjai0CtMu5"
      },
      "execution_count": null,
      "outputs": []
    },
    {
      "cell_type": "code",
      "source": [
        "# Функция для удаления фона\n",
        "def remove_background(image_path):\n",
        "    image = Image.open(image_path).convert('RGB')\n",
        "    transform = transforms.Compose([transforms.Resize((320, 320)), transforms.ToTensor()])\n",
        "    image_tensor = transform(image).unsqueeze(0)\n",
        "\n",
        "    # Получаем маску фона\n",
        "    with torch.no_grad():\n",
        "        mask = model(image_tensor)[0][0]\n",
        "\n",
        "    # Преобразование маски\n",
        "    mask = mask.squeeze().cpu().numpy()\n",
        "    mask = cv2.resize(mask, (image.size[0], image.size[1]))\n",
        "    mask = (mask > 0.5).astype(np.uint8)\n",
        "\n",
        "    # Применение маски для удаления фона\n",
        "    image_np = np.array(image)\n",
        "    result = image_np * np.expand_dims(mask, axis=2)\n",
        "    return Image.fromarray(result)\n"
      ],
      "metadata": {
        "id": "2iElnHnBtfoC"
      },
      "execution_count": null,
      "outputs": []
    },
    {
      "cell_type": "code",
      "source": [
        "# Функция для замены фона\n",
        "def replace_background(image, background_color=(255, 255, 255)):\n",
        "    background = np.full(image.size + (3,), background_color, dtype=np.uint8)\n",
        "    image_np = np.array(image)\n",
        "    mask = (image_np[:, :, :3] != 0).any(axis=-1).astype(np.uint8)\n",
        "    result = image_np.copy()\n",
        "    result[mask == 0] = background[mask == 0]\n",
        "    return Image.fromarray(result)\n",
        "\n",
        "# Обработка всех изображений\n",
        "image_folder = sirius_data_folder\n",
        "output_folder = '/mnt/data/processed_images'\n",
        "os.makedirs(output_folder, exist_ok=True)\n",
        "\n",
        "for filename in os.listdir(image_folder):\n",
        "    if filename.endswith('.jpg'):\n",
        "        image_path = os.path.join(image_folder, filename)\n",
        "        result = remove_background(image_path)\n",
        "        final_image = replace_background(result, background_color=(255, 255, 255))  # Белый фон\n",
        "        final_image.save(os.path.join(output_folder, filename))"
      ],
      "metadata": {
        "id": "18Y88jXCtke_"
      },
      "execution_count": null,
      "outputs": []
    },
    {
      "cell_type": "code",
      "source": [
        "#генерация описания товара\n",
        "\n",
        "import random\n",
        "\n",
        "# Генерация описания\n",
        "def generate_description(filename, style=\"concise\"):\n",
        "    item_id = os.path.splitext(filename)[0]\n",
        "\n",
        "    # Простая генерация описаний\n",
        "    descriptions = {\n",
        "        \"concise\": f\"Товар {item_id}: Высококачественный продукт, созданный для вашего комфорта.\",\n",
        "        \"detailed\": f\"Товар {item_id}: Идеальное сочетание стиля и качества. Подходит для использования в повседневной жизни и подчеркивает ваш вкус.\"\n",
        "    }\n",
        "\n",
        "    return descriptions.get(style, descriptions[\"concise\"])\n",
        "\n",
        "# Пример генерации описаний для всех файлов\n",
        "for filename in os.listdir(output_folder):\n",
        "    if filename.endswith('.jpg'):\n",
        "        description = generate_description(filename, style=\"concise\")\n",
        "        print(f\"Описание для {filename}: {description}\")"
      ],
      "metadata": {
        "id": "m1CwHWx1tp9K"
      },
      "execution_count": null,
      "outputs": []
    }
  ]
}